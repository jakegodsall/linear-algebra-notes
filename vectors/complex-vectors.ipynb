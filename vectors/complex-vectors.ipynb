{
 "cells": [
  {
   "cell_type": "markdown",
   "metadata": {},
   "source": [
    "# Complex Vectors"
   ]
  },
  {
   "cell_type": "code",
   "execution_count": 6,
   "metadata": {},
   "outputs": [],
   "source": [
    "import numpy as np"
   ]
  },
  {
   "cell_type": "markdown",
   "metadata": {},
   "source": [
    "### Using Complex Numbers in Python"
   ]
  },
  {
   "cell_type": "code",
   "execution_count": 7,
   "metadata": {},
   "outputs": [
    {
     "name": "stdout",
     "output_type": "stream",
     "text": [
      "(<class 'complex'>) (3+4j)\n",
      "(<class 'complex'>) (3+4j)\n"
     ]
    }
   ],
   "source": [
    "c1 = complex(3, 4)\n",
    "c2 = 3 + 4j\n",
    "\n",
    "print(f\"({type(c1)}) {c1}\")\n",
    "print(f\"({type(c2)}) {c2}\")"
   ]
  },
  {
   "cell_type": "code",
   "execution_count": 8,
   "metadata": {},
   "outputs": [
    {
     "name": "stdout",
     "output_type": "stream",
     "text": [
      "3.0\n",
      "4.0\n"
     ]
    }
   ],
   "source": [
    "print(c1.real)\n",
    "print(c1.imag)"
   ]
  },
  {
   "cell_type": "code",
   "execution_count": 9,
   "metadata": {},
   "outputs": [
    {
     "name": "stdout",
     "output_type": "stream",
     "text": [
      "5.0\n",
      "5.0\n"
     ]
    }
   ],
   "source": [
    "c1 = complex(3, 4)\n",
    "c2 = complex (3, -4)\n",
    "\n",
    "print(abs(c1))\n",
    "print(abs(c2))"
   ]
  },
  {
   "cell_type": "code",
   "execution_count": 15,
   "metadata": {},
   "outputs": [
    {
     "name": "stdout",
     "output_type": "stream",
     "text": [
      "(<class 'complex'>) (3+4j)\n",
      "(<class 'complex'>) (3-4j)\n"
     ]
    }
   ],
   "source": [
    "c1 = complex(3, 4)\n",
    "c2 = c1.conjugate()\n",
    "\n",
    "print(f\"({type(c1)}) {c1}\")\n",
    "print(f\"({type(c2)}) {c2}\")"
   ]
  },
  {
   "cell_type": "markdown",
   "metadata": {},
   "source": [
    "### Using Complex Numbers in NumPy"
   ]
  },
  {
   "cell_type": "code",
   "execution_count": 14,
   "metadata": {},
   "outputs": [
    {
     "name": "stdout",
     "output_type": "stream",
     "text": [
      "(<class 'numpy.complex64'>) (3+4j)\n",
      "(<class 'numpy.complex128'>) (3+4j)\n"
     ]
    }
   ],
   "source": [
    "c1 = np.complex64(3 + 4j)\n",
    "c2 = np.complex128(3 + 4j)\n",
    "\n",
    "print(f\"({type(c1)}) {c1}\")\n",
    "print(f\"({type(c2)}) {c2}\")"
   ]
  },
  {
   "cell_type": "code",
   "execution_count": 13,
   "metadata": {},
   "outputs": [
    {
     "name": "stdout",
     "output_type": "stream",
     "text": [
      "(<class 'numpy.complex64'>) (3+4j)\n",
      "(<class 'numpy.complex128'>) (3+4j)\n"
     ]
    }
   ],
   "source": [
    "c1 = np.csingle(3 + 4j)\n",
    "c2 = np.cdouble(3 + 4j)\n",
    "\n",
    "print(f\"({type(c1)}) {c1}\")\n",
    "print(f\"({type(c2)}) {c2}\")"
   ]
  },
  {
   "cell_type": "code",
   "execution_count": 34,
   "metadata": {},
   "outputs": [
    {
     "name": "stdout",
     "output_type": "stream",
     "text": [
      "5.0 (5+0j)\n"
     ]
    }
   ],
   "source": [
    "z = 3 + 4j\n",
    "\n",
    "m1 = np.linalg.norm(z)\n",
    "m2 = np.sqrt(np.transpose(z.conjugate())*z)\n",
    "\n",
    "print(m1, m2)"
   ]
  },
  {
   "cell_type": "markdown",
   "metadata": {},
   "source": [
    "#### Complex Vectors"
   ]
  },
  {
   "cell_type": "code",
   "execution_count": 40,
   "metadata": {},
   "outputs": [
    {
     "name": "stdout",
     "output_type": "stream",
     "text": [
      "[3.+0.j 3.+4.j 8.-6.j]\n",
      "[3.+0.j 3.+4.j 8.-6.j]\n",
      "[3.-0.j 3.-4.j 8.+6.j]\n",
      "11.575836902790225\n"
     ]
    }
   ],
   "source": [
    "c1 = np.array([\n",
    "    3,\n",
    "    3 + 4j,\n",
    "    8 - 6j\n",
    "])\n",
    "\n",
    "print(c1)\n",
    "print(np.transpose(c1))\n",
    "print(np.transpose(np.conjugate(c1)))\n",
    "\n",
    "m1 = np.linalg.norm(c1)\n",
    "\n",
    "print(m1)"
   ]
  },
  {
   "cell_type": "code",
   "execution_count": 29,
   "metadata": {},
   "outputs": [
    {
     "name": "stdout",
     "output_type": "stream",
     "text": [
      "[  5.+0.j  25.+0.j 100.+0.j]\n"
     ]
    }
   ],
   "source": [
    "arr1 = np.array([\n",
    "    1 + 2j,\n",
    "    3 + 4j,\n",
    "    8 - 6j\n",
    "])\n",
    "\n",
    "m2 = np.transpose(arr1.conjugate())*arr1\n",
    "\n",
    "print(m2)"
   ]
  },
  {
   "cell_type": "code",
   "execution_count": null,
   "metadata": {},
   "outputs": [],
   "source": []
  }
 ],
 "metadata": {
  "kernelspec": {
   "display_name": "venv",
   "language": "python",
   "name": "venv"
  },
  "language_info": {
   "codemirror_mode": {
    "name": "ipython",
    "version": 3
   },
   "file_extension": ".py",
   "mimetype": "text/x-python",
   "name": "python",
   "nbconvert_exporter": "python",
   "pygments_lexer": "ipython3",
   "version": "3.11.6"
  }
 },
 "nbformat": 4,
 "nbformat_minor": 2
}
