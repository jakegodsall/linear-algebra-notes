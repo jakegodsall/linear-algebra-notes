{
 "cells": [
  {
   "cell_type": "markdown",
   "id": "6471f76e-7fa5-4415-bcd3-563dbadb513f",
   "metadata": {},
   "source": [
    "# Vector Products\n",
    "\n",
    "There are four distinct products between two vectors, each of which have their own applications and constraints.\n",
    "\n",
    "1. The Inner Product (Dot Product)\n",
    "2. The Hadamard Product (Element-wise Product)\n",
    "3. The Cross Product\n",
    "4. The Outer Product\n",
    "\n",
    "In this notebook, each of the products is implemented using Numpy arrays, first with an explicit loop-based implementation, and then using the corresponding Numpy functions."
   ]
  },
  {
   "cell_type": "code",
   "execution_count": 1,
   "id": "a4022c0c-ae4a-476d-bdae-3cb5ede91c26",
   "metadata": {},
   "outputs": [],
   "source": [
    "import numpy as np"
   ]
  },
  {
   "cell_type": "markdown",
   "id": "2c777942-f22f-48e8-88d4-a2e53b3836f0",
   "metadata": {},
   "source": [
    "## Inner Product (Dot Product)"
   ]
  },
  {
   "cell_type": "markdown",
   "id": "b30482a1-8094-48e2-a165-65cc9b0b0776",
   "metadata": {},
   "source": [
    "#### Definition\n",
    "\n",
    "$$\\vec{u} \\cdot \\vec{v} = \\sum_{i = 1}^{n} u_{i}v_{i} = u_{1}v_{1} + u_{2}v_{2} + ... + u_{n}v_{n}$$\n",
    "\n",
    "#### Signature\n",
    "\n",
    "$$f: \\mathbb{R}^{n} \\times \\mathbb{R}^{n} \\rightarrow \\mathbb{R}$$\n",
    "\n",
    "#### Constraints\n",
    "\n",
    "Both vectors must have the same dimensionality:\n",
    "\n",
    "$$\\vec{u}, \\vec{v} \\in \\mathbb{R}^{n}$$"
   ]
  },
  {
   "cell_type": "markdown",
   "id": "cad6076a-b869-4803-ba88-b9f71e0a8743",
   "metadata": {},
   "source": [
    "### Explicit Implementation"
   ]
  },
  {
   "cell_type": "code",
   "execution_count": 2,
   "id": "d44b67e4-bdfd-4399-b5ce-cb3ce91c193d",
   "metadata": {},
   "outputs": [
    {
     "data": {
      "text/plain": [
       "25"
      ]
     },
     "execution_count": 2,
     "metadata": {},
     "output_type": "execute_result"
    }
   ],
   "source": [
    "v1 = np.array([1, 3, 5])\n",
    "v2 = np.array([3, 4, 2])\n",
    "\n",
    "dp = 0\n",
    "for i in range(len(v1)):\n",
    "    dp += v1[i]*v2[i]\n",
    "\n",
    "dp"
   ]
  },
  {
   "cell_type": "markdown",
   "id": "af6f3e09-ad6c-4264-9d68-2688b5e045e2",
   "metadata": {},
   "source": [
    "### Using Numpy Functions"
   ]
  },
  {
   "cell_type": "code",
   "execution_count": 3,
   "id": "efda24cf-d0b3-47ba-a5bd-5e2b8e383e2d",
   "metadata": {},
   "outputs": [
    {
     "data": {
      "text/plain": [
       "25"
      ]
     },
     "execution_count": 3,
     "metadata": {},
     "output_type": "execute_result"
    }
   ],
   "source": [
    "v1 = np.array([1, 3, 5])\n",
    "v2 = np.array([3, 4, 2])\n",
    "\n",
    "dp = np.dot(v1, v2)\n",
    "\n",
    "dp"
   ]
  },
  {
   "cell_type": "markdown",
   "id": "8f8f7709-b3a6-4663-8e5d-a86fbc1643d6",
   "metadata": {},
   "source": [
    "## Hadamard Product (Element-wise Product)"
   ]
  },
  {
   "cell_type": "markdown",
   "id": "b5992165-8b84-4f35-9e2a-598aac2ad9c2",
   "metadata": {
    "jp-MarkdownHeadingCollapsed": true
   },
   "source": [
    "#### Definition\n",
    "\n",
    "$$\\vec{w} = \\vec{u} \\circ \\vec{v}$$\n",
    "\n",
    "where \n",
    "\n",
    "$$w_{i} = u_{i}v_{i}$$\n",
    "\n",
    "#### Signature\n",
    "\n",
    "$$f: \\mathbb{R}^{n} \\times \\mathbb{R}^{n} \\rightarrow \\mathbb{R}^{n}$$\n",
    "\n",
    "#### Constraints\n",
    "\n",
    "Both vectors must have the same dimensionality:\n",
    "\n",
    "$$\\vec{u}, \\vec{v} \\in \\mathbb{R}^{n}$$"
   ]
  },
  {
   "cell_type": "markdown",
   "id": "09f3b41c-399e-4163-9479-86b3d26d680a",
   "metadata": {},
   "source": [
    "#### Explicit Implementation"
   ]
  },
  {
   "cell_type": "code",
   "execution_count": 25,
   "id": "3bd40086-fef2-4e81-8467-2344a671dc38",
   "metadata": {},
   "outputs": [
    {
     "data": {
      "text/plain": [
       "array([ 3., 12., 10.])"
      ]
     },
     "execution_count": 25,
     "metadata": {},
     "output_type": "execute_result"
    }
   ],
   "source": [
    "v1 = np.array([1, 3, 5])\n",
    "v2 = np.array([3, 4, 2])\n",
    "\n",
    "v3 = np.zeros(len(v1))\n",
    "for i in range(len(v3)):\n",
    "    v3[i] = v1[i]*v2[i]\n",
    "\n",
    "v3"
   ]
  },
  {
   "cell_type": "markdown",
   "id": "ca340b0e-c667-4edf-95a5-19bbe360c29b",
   "metadata": {},
   "source": [
    "#### Using Numpy Functions"
   ]
  },
  {
   "cell_type": "code",
   "execution_count": 26,
   "id": "b32c7509-74af-4b4d-9977-e42a914a8ff1",
   "metadata": {},
   "outputs": [
    {
     "name": "stdout",
     "output_type": "stream",
     "text": [
      "[ 3 12 10]\n"
     ]
    }
   ],
   "source": [
    "v1 = np.array([1, 3, 5])\n",
    "v2 = np.array([3, 4, 2])\n",
    "\n",
    "v3 = np.multiply(v1, v2)\n",
    "\n",
    "print(v3)"
   ]
  },
  {
   "cell_type": "markdown",
   "id": "e7596c6d-6d04-4cf9-aef1-419d34a3bbdb",
   "metadata": {},
   "source": [
    "## Cross Product"
   ]
  },
  {
   "cell_type": "markdown",
   "id": "217e1a3b-2cdd-4eab-bd42-4fffc4f588b8",
   "metadata": {},
   "source": [
    "#### Definition\n",
    "\n",
    "$$\\vec{w} = \\vec{u} \\times \\vec{v} = \n",
    "\\begin{bmatrix}\n",
    "    u_2 v_3 - u_3 v_2 \\\\\n",
    "    u_3 v_1 - u_1 v_3 \\\\\n",
    "    u_1 v_2 - u_2 v_1 \n",
    "\\end{bmatrix}$$\n",
    "\n",
    "#### Signature\n",
    "\n",
    "$$f : \\mathbb{R}^{3} \\times \\mathbb{R}^{3} \\rightarrow \\mathbb{R}^{3}$$\n",
    "\n",
    "#### Constraints\n",
    "\n",
    "Both vectors must be three-dimensional.\n",
    "\n",
    "$$u, v \\in \\mathbb{R}^{3}$$"
   ]
  },
  {
   "cell_type": "markdown",
   "id": "b4a6660d-3f28-49f7-b688-294639e5a19d",
   "metadata": {},
   "source": [
    "#### Explicit Implementation"
   ]
  },
  {
   "cell_type": "code",
   "execution_count": 35,
   "id": "cd15dcaf-ccd8-473c-8077-1e36f24021e8",
   "metadata": {},
   "outputs": [
    {
     "data": {
      "text/plain": [
       "array([-14,  13,  -5])"
      ]
     },
     "execution_count": 35,
     "metadata": {},
     "output_type": "execute_result"
    }
   ],
   "source": [
    "v1 = np.array([1, 3, 5])\n",
    "v2 = np.array([3, 4, 2])\n",
    "\n",
    "v3 = np.array([\n",
    "    v1[1]*v2[2] - v1[2]*v2[1],\n",
    "    v1[2]*v2[0] - v1[0]*v2[2],\n",
    "    v1[0]*v2[1] - v1[1]*v2[0]\n",
    "])\n",
    "v3"
   ]
  },
  {
   "cell_type": "markdown",
   "id": "479baa4c-7178-473d-98d6-988011badec3",
   "metadata": {},
   "source": [
    "#### Using Numpy Functions"
   ]
  },
  {
   "cell_type": "code",
   "execution_count": 36,
   "id": "2e2fc7c9-e86f-46df-90cd-a30567e4de57",
   "metadata": {},
   "outputs": [
    {
     "data": {
      "text/plain": [
       "array([-14,  13,  -5])"
      ]
     },
     "execution_count": 36,
     "metadata": {},
     "output_type": "execute_result"
    }
   ],
   "source": [
    "v1 = np.array([1, 3, 5])\n",
    "v2 = np.array([3, 4, 2])\n",
    "\n",
    "v3 = np.cross(v1, v2)\n",
    "v3"
   ]
  },
  {
   "cell_type": "markdown",
   "id": "8875e938-f29d-4c6f-9302-71bf9010a908",
   "metadata": {},
   "source": [
    "## Outer Product"
   ]
  },
  {
   "cell_type": "markdown",
   "id": "4dc9144e-d1e7-4969-9c20-b4c3310cda90",
   "metadata": {},
   "source": [
    "#### Definition\n",
    "\n",
    "$$A = \\vec{u} \\otimes \\vec{v}$$\n",
    "\n",
    "where \n",
    "\n",
    "$$A_{ij} = u_{i}v_{j}$$\n",
    "\n",
    "#### Signature\n",
    "\n",
    "$$f : \\mathbb{R}^{m} \\times \\mathbb{R}^{n} \\rightarrow \\mathbb{R}^{m \\times n}$$\n",
    "\n",
    "#### Constraints\n",
    "\n",
    "Each vector need not have the same dimensionality.\n",
    "\n",
    "$$u \\in \\mathbb{R}^{m}, v \\in \\mathbb{R}^{n}$$"
   ]
  },
  {
   "cell_type": "markdown",
   "id": "92c4056c-2b48-44ea-abe9-0e90c5170bf4",
   "metadata": {},
   "source": [
    "#### Explicit Implementation"
   ]
  },
  {
   "cell_type": "code",
   "execution_count": 28,
   "id": "82960ea7-94bc-4bfe-a8fa-7a2312211d48",
   "metadata": {},
   "outputs": [
    {
     "data": {
      "text/plain": [
       "array([[ 3.,  4.,  2.,  5.],\n",
       "       [ 9., 12.,  6., 15.],\n",
       "       [15., 20., 10., 25.]])"
      ]
     },
     "execution_count": 28,
     "metadata": {},
     "output_type": "execute_result"
    }
   ],
   "source": [
    "v1 = np.array([1, 3, 5])\n",
    "v2 = np.array([3, 4, 2, 5])\n",
    "\n",
    "v3 = np.zeros((len(v1), len(v2)))\n",
    "for i in range(len(v3)):\n",
    "    for j in range(len(v3[i])):\n",
    "        v3[i][j] = v1[i]*v2[j]\n",
    "\n",
    "v3"
   ]
  },
  {
   "cell_type": "markdown",
   "id": "949897c5-b450-426e-802e-430645b57cfc",
   "metadata": {},
   "source": [
    "#### Using Numpy Functions"
   ]
  },
  {
   "cell_type": "code",
   "execution_count": 29,
   "id": "97ff870e-8ebc-47a2-bf2a-f16f951c420d",
   "metadata": {},
   "outputs": [
    {
     "data": {
      "text/plain": [
       "array([[ 3,  4,  2,  5],\n",
       "       [ 9, 12,  6, 15],\n",
       "       [15, 20, 10, 25]])"
      ]
     },
     "execution_count": 29,
     "metadata": {},
     "output_type": "execute_result"
    }
   ],
   "source": [
    "v1 = np.array([1, 3, 5])\n",
    "v2 = np.array([3, 4, 2, 5])\n",
    "\n",
    "v3 = np.outer(v1, v2)\n",
    "\n",
    "v3"
   ]
  }
 ],
 "metadata": {
  "kernelspec": {
   "display_name": "venv",
   "language": "python",
   "name": "venv"
  },
  "language_info": {
   "codemirror_mode": {
    "name": "ipython",
    "version": 3
   },
   "file_extension": ".py",
   "mimetype": "text/x-python",
   "name": "python",
   "nbconvert_exporter": "python",
   "pygments_lexer": "ipython3",
   "version": "3.11.6"
  }
 },
 "nbformat": 4,
 "nbformat_minor": 5
}
