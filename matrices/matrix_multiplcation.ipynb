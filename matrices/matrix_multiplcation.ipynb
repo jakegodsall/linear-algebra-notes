{
 "cells": [
  {
   "cell_type": "markdown",
   "metadata": {},
   "source": [
    "# Matrix Multiplication"
   ]
  },
  {
   "cell_type": "code",
   "execution_count": 4,
   "metadata": {},
   "outputs": [],
   "source": [
    "import numpy as np"
   ]
  },
  {
   "cell_type": "markdown",
   "metadata": {},
   "source": [
    "#### By Layering"
   ]
  },
  {
   "cell_type": "code",
<<<<<<< HEAD
   "execution_count": 7,
=======
   "execution_count": 21,
>>>>>>> 970729a (Added matrix_multiplication notebook)
   "metadata": {},
   "outputs": [
    {
     "name": "stdout",
     "output_type": "stream",
     "text": [
<<<<<<< HEAD
      "[[1 2]\n",
      " [3 4]]\n",
      "\n",
      "[[3 4]\n",
      " [5 6]]\n"
=======
      "[[ 1  2  3  4]\n",
      " [ 5  6  7  8]\n",
      " [ 9 10 11 12]]\n",
      "\n",
      "[[ 1  2  3]\n",
      " [ 4  5  6]\n",
      " [ 7  8  9]\n",
      " [10 11 12]]\n",
      "(3, 3)\n",
      "[[0. 0. 0.]\n",
      " [0. 0. 0.]\n",
      " [0. 0. 0.]]\n",
      "[[ 30.  36.  42.]\n",
      " [ 78.  96. 114.]\n",
      " [126. 156. 186.]]\n",
      "[[ 70  80  90]\n",
      " [158 184 210]\n",
      " [246 288 330]]\n"
>>>>>>> 970729a (Added matrix_multiplication notebook)
     ]
    }
   ],
   "source": [
<<<<<<< HEAD
    "A = np.arange(1, 5).reshape(2, 2)\n",
    "B = np.arange(3, 7).reshape(2, 2)\n",
=======
    "A = np.arange(1, 13).reshape(3, 4)\n",
    "B = np.arange(1, 13).reshape(4, 3)\n",
>>>>>>> 970729a (Added matrix_multiplication notebook)
    "\n",
    "print(A)\n",
    "print()\n",
    "print(B)\n",
    "\n",
<<<<<<< HEAD
    "C = np.zeros(len(A[0]), len(B))\n",
    "print(shape(C))\n",
    "for i in range(len(A)):\n",
    "    for j in range(len(B[i])):\n",
    "        C[i][j] = "
=======
    "C = np.zeros((len(A), len(B[0])))\n",
    "print(C.shape)\n",
    "print(C)\n",
    "for i in range(len(C[0])):\n",
    "    C += np.outer(A[:, i], B[i, :])\n",
    "    \n",
    "C2 = A@B\n",
    "\n",
    "print(C)\n",
    "print(C2)"
>>>>>>> 970729a (Added matrix_multiplication notebook)
   ]
  },
  {
   "cell_type": "code",
   "execution_count": null,
   "metadata": {},
   "outputs": [],
   "source": []
  }
 ],
 "metadata": {
  "kernelspec": {
   "display_name": "venv",
   "language": "python",
   "name": "venv"
  },
  "language_info": {
   "codemirror_mode": {
    "name": "ipython",
    "version": 3
   },
   "file_extension": ".py",
   "mimetype": "text/x-python",
   "name": "python",
   "nbconvert_exporter": "python",
   "pygments_lexer": "ipython3",
   "version": "3.11.6"
  }
 },
 "nbformat": 4,
 "nbformat_minor": 2
}
