{
 "cells": [
  {
   "cell_type": "markdown",
   "metadata": {},
   "source": [
    "# Matrix Multiplication"
   ]
  },
  {
   "cell_type": "code",
   "execution_count": 2,
   "metadata": {},
   "outputs": [],
   "source": [
    "import numpy as np"
   ]
  },
  {
   "cell_type": "markdown",
   "metadata": {},
   "source": [
    "### Element Perspective\n",
    "\n",
    "The element perspective is the most standard. \n",
    "\n",
    "This is where each element is computed as the dot product of the rows of the first matrix and columns of the second matrix.\n",
    "\n",
    "The $(i, j)$ element of the resulting matrix $C$ is given by:\n",
    "\n",
    "$$C_{ij} = \\sum_{k = 1}^{n}A_{ik} \\times B_{kj}"
   ]
  },
  {
   "cell_type": "code",
<<<<<<< HEAD
<<<<<<< HEAD
   "execution_count": 7,
=======
   "execution_count": 21,
>>>>>>> 970729a (Added matrix_multiplication notebook)
=======
   "execution_count": 17,
>>>>>>> 9804a9a (Added element perspective and layer perspective matrix multiplications)
   "metadata": {},
   "outputs": [
    {
     "name": "stdout",
     "output_type": "stream",
     "text": [
<<<<<<< HEAD
      "[[1 2]\n",
      " [3 4]]\n",
      "\n",
      "[[3 4]\n",
      " [5 6]]\n"
=======
      "[[ 1  2  3  4]\n",
      " [ 5  6  7  8]\n",
      " [ 9 10 11 12]]\n",
      "\n",
      "[[ 1  2  3]\n",
      " [ 4  5  6]\n",
      " [ 7  8  9]\n",
      " [10 11 12]]\n",
<<<<<<< HEAD
      "(3, 3)\n",
      "[[0. 0. 0.]\n",
      " [0. 0. 0.]\n",
      " [0. 0. 0.]]\n",
      "[[ 30.  36.  42.]\n",
      " [ 78.  96. 114.]\n",
      " [126. 156. 186.]]\n",
      "[[ 70  80  90]\n",
      " [158 184 210]\n",
      " [246 288 330]]\n"
>>>>>>> 970729a (Added matrix_multiplication notebook)
=======
      "\n",
      "[[ 70.  80.  90.]\n",
      " [158. 184. 210.]\n",
      " [246. 288. 330.]]\n"
     ]
    }
   ],
   "source": [
    "A = np.arange(1, 13).reshape(3, 4)\n",
    "B = np.arange(1, 13).reshape(4, 3)\n",
    "print(A)\n",
    "print()\n",
    "print(B)\n",
    "print()\n",
    "\n",
    "def matrix_prod_by_el(A, B):\n",
    "    \"\"\"Matrix product by the element perspective.\"\"\"\n",
    "    C = np.zeros((len(A), len(B[0])))\n",
    "    for i in range(len(A)):\n",
    "        for j in range(len(B[0])):\n",
    "            sum = 0\n",
    "            for k in range(len(A[i])):\n",
    "                sum += A[i, k]*B[k, j]\n",
    "            C[i, j] = sum\n",
    "    return C\n",
    "\n",
    "print(matrix_prod_by_el(A, B))"
   ]
  },
  {
   "cell_type": "markdown",
   "metadata": {},
   "source": [
    "### By Layering\n",
    "\n",
    "Break down $A$ and $B$ into column and row vectors, respectively.\n",
    "\n",
    "Multiply each column from vector $A$ with each row from vector $B$, creating $n$ outer product matrices.\n",
    "\n",
    "These matrices are then summed together to form the final product matrix."
   ]
  },
  {
   "cell_type": "code",
   "execution_count": 15,
   "metadata": {},
   "outputs": [
    {
     "name": "stdout",
     "output_type": "stream",
     "text": [
      "[[ 70.  80.  90.]\n",
      " [158. 184. 210.]\n",
      " [246. 288. 330.]]\n"
>>>>>>> 9804a9a (Added element perspective and layer perspective matrix multiplications)
     ]
    }
   ],
   "source": [
<<<<<<< HEAD
    "A = np.arange(1, 5).reshape(2, 2)\n",
    "B = np.arange(3, 7).reshape(2, 2)\n",
=======
    "A = np.arange(1, 13).reshape(3, 4)\n",
    "B = np.arange(1, 13).reshape(4, 3)\n",
>>>>>>> 970729a (Added matrix_multiplication notebook)
    "\n",
    "def matrix_prod_by_layer(A, B, verbose=False):\n",
    "    \"\"\"Matrix product by the layer perspective\"\"\"\n",
    "    C = np.zeros((len(A), len(B[0])))\n",
    "    for k in range(len(A[0])):\n",
    "        outer_product = np.zeros_like(C)\n",
    "        for i in range(len(A)):\n",
    "            for j in range(len(B[0])):\n",
    "                outer_product[i, j] = A[i, k]*B[k, j]\n",
    "        C += outer_product\n",
    "    return C\n",
    "\n",
<<<<<<< HEAD
<<<<<<< HEAD
    "C = np.zeros(len(A[0]), len(B))\n",
    "print(shape(C))\n",
    "for i in range(len(A)):\n",
    "    for j in range(len(B[i])):\n",
    "        C[i][j] = "
=======
    "C = np.zeros((len(A), len(B[0])))\n",
    "print(C.shape)\n",
    "print(C)\n",
    "for i in range(len(C[0])):\n",
    "    C += np.outer(A[:, i], B[i, :])\n",
    "    \n",
    "C2 = A@B\n",
    "\n",
    "print(C)\n",
    "print(C2)"
>>>>>>> 970729a (Added matrix_multiplication notebook)
=======
    "print(C)"
>>>>>>> 9804a9a (Added element perspective and layer perspective matrix multiplications)
   ]
  },
  {
   "cell_type": "code",
   "execution_count": null,
   "metadata": {},
   "outputs": [],
   "source": []
  }
 ],
 "metadata": {
  "kernelspec": {
   "display_name": "venv",
   "language": "python",
   "name": "venv"
  },
  "language_info": {
   "codemirror_mode": {
    "name": "ipython",
    "version": 3
   },
   "file_extension": ".py",
   "mimetype": "text/x-python",
   "name": "python",
   "nbconvert_exporter": "python",
   "pygments_lexer": "ipython3",
   "version": "3.11.6"
  }
 },
 "nbformat": 4,
 "nbformat_minor": 2
}
